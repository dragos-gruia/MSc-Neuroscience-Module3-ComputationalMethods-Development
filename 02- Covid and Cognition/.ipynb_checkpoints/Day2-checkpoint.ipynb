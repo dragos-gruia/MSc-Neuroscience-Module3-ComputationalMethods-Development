{
 "cells": [
  {
   "cell_type": "markdown",
   "metadata": {},
   "source": [
    "                                             Workshop 2: Dragos Gruia and Valentina Giunchiglia"
   ]
  },
  {
   "cell_type": "markdown",
   "metadata": {},
   "source": [
    "# COVID and Cognition"
   ]
  },
  {
   "cell_type": "markdown",
   "metadata": {},
   "source": [
    "The data we will analyse today consists of the performance of 50 people who had recovered from COVID-19 illness after being in critical care. They completed three computerised cognitive tasks called Target Detection, Spatial Span and Verbal Analogies. Our aim is to understand whether the patients' cognition was affected by COVID-19 in the chronic phase after recovering from the viral infection and whether the type of symptoms and the gravity of the disease (e.g. whether participants ended up requiring mechanical breathing support) played a role on the level of cognitive changes that occurred. "
   ]
  },
  {
   "cell_type": "markdown",
   "metadata": {},
   "source": [
    "Each one of the cognitive tasks completed by patients measures a different aspect of cognition: \n",
    "\n",
    "1. **Target Detection:** attention task. This task measures the ability to identify specific *relevant* information in the context of many distractions. The task is designed to be particularly challenging due to the rate at which targets and distractors appear in the visual array, which requires participants to continously pay attention in order to avoid missing targets and losing points. \n",
    "2. **Spatial Span:** memory task. In this task, participants are presented with a 4 x 4 grid, on which is displayed a sequence of squares in different positions. The participant must then click the squares in the order that they were highlighted. Every time a sequence is recalled correctly, the length of the subsequent sequence is incremented by one, making it more difficult. The task ends when a participant fails the same difficulty level three times.\n",
    "3. **Verbal Analogies:** language task. In this task, participants are presented with two pairs of words and they must decide if the pairs are related to each other in the same 'analogous' way. Participants must indicate their decision by selecting the True or False buttons presented below the word pairs.\n",
    "\n",
    "The performance in cognitive tasks is typically measured in two ways.\n",
    "\n",
    "1. Accuracy - the number or proportion of correct answers given\n",
    "2. Reaction time (RT) - the median or mean time required by participants to complete each single trial of a task.\n",
    "\n",
    "Screen grabs of the three tasks are presented below."
   ]
  },
  {
   "attachments": {
    "9304e412-0a76-40d3-9d91-7d6e85dcc433.gif": {
     "image/gif": "[encoded data removed]"
    },
    "df643a61-93c7-4863-ae91-31137d27f1b0.gif": {
     "image/gif": "[encoded data removed]"
    },
    "e66776b9-0240-4d79-a08f-2c0278d2095d.gif": {
     "image/gif": "[encoded data removed]"
    }
   },
   "cell_type": "markdown",
   "metadata": {},
   "source": [
    "Verbal Analogies |  Target detection | Spatial Span |\n",
    ":-------------------------:|:-------------------------: |:-------------------------: |\n",
    "![VerbalAnalogies.gif](attachment:e66776b9-0240-4d79-a08f-2c0278d2095d.gif) | ![TargetDetection.gif](attachment:df643a61-93c7-4863-ae91-31137d27f1b0.gif)|![SpatialSpan.gif](attachment:9304e412-0a76-40d3-9d91-7d6e85dcc433.gif)"
   ]
  },
  {
   "cell_type": "markdown",
   "metadata": {},
   "source": [
    "Now that we know our research aim and the description of the cognitive assessment, we can continue with the next steps, namely the data cleaning and analysis. \n",
    "\n",
    "Let us first import the libraries we will need for today's workshop and install any new ones."
   ]
  },
  {
   "cell_type": "code",
   "execution_count": null,
   "metadata": {},
   "outputs": [],
   "source": [
    "pip install openpyxl seaborn"
   ]
  },
  {
   "cell_type": "code",
   "execution_count": null,
   "metadata": {},
   "outputs": [],
   "source": [
    "%matplotlib inline\n",
    "import matplotlib.pyplot as plt\n",
    "import pandas as pd\n",
    "import numpy as np\n",
    "from scipy.stats.mstats import winsorize\n",
    "import seaborn as sb\n",
    "from sklearn.linear_model import LinearRegression\n",
    "\n",
    "import warnings\n",
    "warnings.filterwarnings(\"ignore\")\n",
    "\n",
    "sb.set_theme(\"talk\")\n",
    "sb.set_style(\"whitegrid\")"
   ]
  },
  {
   "cell_type": "markdown",
   "metadata": {},
   "source": [
    "Then, download the data [here](https://imperiallondon-my.sharepoint.com/:f:/g/personal/vg816_ic_ac_uk/EuPCq2zHgm5HiwlbMzuRGYwBOrv8nMeSkGfKE-Hp1pnsZg?e=zrVb8T) that you need to run this workshop and this link and save them in the folder called `Data`."
   ]
  },
  {
   "cell_type": "markdown",
   "metadata": {},
   "source": [
    "Now let's open the data file as a dataframe. Note that so far we have worked with `.csv` files but Python can just as easily open and manipulate other file types like `excel`. Have a quick look at your data "
   ]
  },
  {
   "cell_type": "code",
   "execution_count": null,
   "metadata": {},
   "outputs": [],
   "source": [
    "df = pd.read_excel(\"Data/covid_dataset.xlsx\")\n",
    "df.head(10)"
   ]
  },
  {
   "cell_type": "markdown",
   "metadata": {},
   "source": [
    "Notice that not all columns are shown, as Python has a cap on how many columns it can show in a table. To help us visualise the data better, we will remove that cap."
   ]
  },
  {
   "cell_type": "code",
   "execution_count": null,
   "metadata": {},
   "outputs": [],
   "source": [
    "pd.set_option('display.max_columns', None)\n",
    "df.head()"
   ]
  },
  {
   "cell_type": "markdown",
   "metadata": {},
   "source": [
    "Now you can see all 79 columns. Please go through each column and try to understand what it is that they are measuring.\n",
    "\n",
    "**HINT**: there are two different columns that have scores for the three tasks of interest. These scores represent two different things, namely the accuracy and the median RT. If patients are impaired, then we expect their accuracy to be lower compared to healthy participants, and their RT to be higher, because participants need longer times to complete the same tasks.."
   ]
  },
  {
   "cell_type": "markdown",
   "metadata": {},
   "source": [
    "There is a lot of information contained in this dataset. But for today's tutorial we do not need all of this information. Let's try to curate a smaller dataset that only contains variables we are interested in analysing. We are going to keep several demographic variables, some information about COVID19 severity and the accuracy results of 3 cognitive tasks."
   ]
  },
  {
   "cell_type": "code",
   "execution_count": null,
   "metadata": {},
   "outputs": [],
   "source": [
    "df2 = pd.concat([df.loc[:, \"userID\":\"First Language binary\"], \n",
    "                 df[\"Mechanical ventilation (1-Y,0-no)\"], \n",
    "                 df.loc[:, \"rs_spatialSpan\":\"rs_verbalAnalogies\"]], axis=1)"
   ]
  },
  {
   "cell_type": "code",
   "execution_count": null,
   "metadata": {},
   "outputs": [],
   "source": [
    "df2.head()"
   ]
  },
  {
   "cell_type": "markdown",
   "metadata": {},
   "source": [
    "Our dataset looks a lot more manageable now! However, some of the variable names we have are not very intuitive. Let's change the name of the cognitive tasks so that it is easier to understand what they measure."
   ]
  },
  {
   "cell_type": "code",
   "execution_count": null,
   "metadata": {},
   "outputs": [],
   "source": [
    "df2.rename(columns = {'rs_spatialSpan':'memory_spatialSpan', \n",
    "                      'rs_verbalAnalogies':'language_verbalAnalogies', \n",
    "                      'rs_targetDetection':'attention_targetDetection'}, inplace = True)\n",
    "df2.head()"
   ]
  },
  {
   "cell_type": "markdown",
   "metadata": {},
   "source": [
    "Try to change the column called `Qualifications` to `Education`"
   ]
  },
  {
   "cell_type": "code",
   "execution_count": null,
   "metadata": {},
   "outputs": [],
   "source": [
    "#CODE HERE"
   ]
  },
  {
   "cell_type": "markdown",
   "metadata": {},
   "source": [
    "Now let's look at the data types for each of our variables. We discussed these during the primer, but as a quick summary, it is important that the data type matches what we expect. Strings are usually saved as objects in python and numeric variables are saved as integers (int64) or float (float64). However, sometimes either due to humar error or due to the way the data is saved, Python might assign the wrong data type to your variables (e.g. numbers may be saved as strings). When this happens, statistical tests throw errors and so do certain plotting functions. It can take a while to figure out where the errors come from. Have a look at our data and see if you can spot any wrong data types."
   ]
  },
  {
   "cell_type": "code",
   "execution_count": null,
   "metadata": {},
   "outputs": [],
   "source": [
    "df2.dtypes"
   ]
  },
  {
   "cell_type": "markdown",
   "metadata": {},
   "source": [
    "It looks like Age was saved as an object, instead of integer. Let's change that. First, we get rid of the quotation marks around the numbers, then we tell python to convert those numbers to `int`"
   ]
  },
  {
   "cell_type": "code",
   "execution_count": null,
   "metadata": {},
   "outputs": [],
   "source": [
    "df2.Age = df[\"Age\"].str.strip('\\\"') \n"
   ]
  },
  {
   "cell_type": "code",
   "execution_count": null,
   "metadata": {},
   "outputs": [],
   "source": [
    "df2.Age = df2.Age.astype(int)"
   ]
  },
  {
   "cell_type": "code",
   "execution_count": null,
   "metadata": {},
   "outputs": [],
   "source": [
    "df2.dtypes # check that the changes have worked"
   ]
  },
  {
   "cell_type": "markdown",
   "metadata": {},
   "source": [
    "Now that we have all of our data in the right format, we may want to check if the values contained in the columns are consistent. If you have a look in the `First language binary` column you will notice that some of the values are capitalised while others are not. This is a problem as any statistics we run will assume that `english` and `English` are two distinct groups. To fix this, we can choose a consistent way to show this and stick with it."
   ]
  },
  {
   "cell_type": "code",
   "execution_count": null,
   "metadata": {},
   "outputs": [],
   "source": [
    "df2['First Language binary'] = df2['First Language binary'].str.title()\n",
    "df2.head()"
   ]
  },
  {
   "cell_type": "markdown",
   "metadata": {},
   "source": [
    "Try to do the same for the `Handedness` variable."
   ]
  },
  {
   "cell_type": "code",
   "execution_count": null,
   "metadata": {},
   "outputs": [],
   "source": [
    "#CODE HERE"
   ]
  },
  {
   "cell_type": "markdown",
   "metadata": {},
   "source": [
    "We may also wish to encode some of our categorical variables into a numeric format. This is usually done as specific statistical techniques, as well as machine learning algorithms (which we will discuss in later lectures), require categorical data to be in a numeric format. Therefore, it is always safer to have your numeric data saved in a numeric format when possible. \n",
    "\n",
    "There are different ways to encode variables, and the two most common ones are `integer encoding` and `one-hot-encoding`. Integer encoding consists in assigning an integer value to each category. Instead, one-hot encoding represents categorical variables as binary vectors. Concretely if you have three potential alternatives for one category, then, for each participant three columns will be made, one per alternative, and a one assigned within the column that each subject belongs to, whilst all others will be assigned a value of 0.\n",
    "\n",
    "Both integer and one-hot encoding can be used. However, one limitation of integer encoding is that it introduces an *order* when assigning an integer to each group, which might not really be meaningful. So, it should be used carefully, based on the type of anaysis that you want to do. Converseley, if there are many possible answers (consider a persons response time) then one hot encoding can require too many columns. \n",
    "\n",
    "The language variable is a good example where `one-hot-encoding` encoding would be useful. Let's see how this can be done below.\n",
    "\n",
    "The most common way to one-hot-encode in Python is to use the `get_dummies` function. If you want to see further examples of this, we have some in our primer."
   ]
  },
  {
   "cell_type": "code",
   "execution_count": null,
   "metadata": {},
   "outputs": [],
   "source": [
    "# Text Data of First Language is converted into Numeric Binary Data\n",
    "df_one = pd.get_dummies(df2['First Language binary'])\n",
    "df_one.head()\n",
    "df_one.shape"
   ]
  },
  {
   "cell_type": "markdown",
   "metadata": {},
   "source": [
    "On the other hand, if you prefer to integer encode there are mutliple approaches that can be used. The first way is to define a dictionary on your own, in order to be able to decide which integer is assigned to which feature. Below, we assign value one to all the fields which have `English` in them and value zero to those with `Other`"
   ]
  },
  {
   "cell_type": "code",
   "execution_count": null,
   "metadata": {},
   "outputs": [],
   "source": [
    "mapping_language = {\"English\": 1, \"Other\": 0}\n",
    "mapped_language = df2['First Language binary'].map(mapping_language)\n",
    "mapped_language.head()"
   ]
  },
  {
   "cell_type": "markdown",
   "metadata": {},
   "source": [
    "Based on whether you choose to one-hot encode or integer encode your features, you will need to conduct your analysis slightly differently, mainly when training regression models. Whether you should one-hot-encode or integer encode mainly depends on the type of analysis you need to conduct. In this case, integer encoding is enough. "
   ]
  },
  {
   "cell_type": "code",
   "execution_count": null,
   "metadata": {},
   "outputs": [],
   "source": [
    "df2['First Language binary'] = mapped_language"
   ]
  },
  {
   "cell_type": "markdown",
   "metadata": {},
   "source": [
    "Let's now rename the column into an easy-to-understand name"
   ]
  },
  {
   "cell_type": "code",
   "execution_count": null,
   "metadata": {},
   "outputs": [],
   "source": [
    "df2.rename(columns = {'First Language binary':'First Language 1-English 0-Other'}, inplace = True)\n",
    "df2.head()"
   ]
  },
  {
   "cell_type": "markdown",
   "metadata": {},
   "source": [
    "Try to do apply the same concept of encoding to the `Handedness` variable. Sex is already encoded for you, so you don't need to do it."
   ]
  },
  {
   "cell_type": "code",
   "execution_count": null,
   "metadata": {},
   "outputs": [],
   "source": [
    "#CODE HERE"
   ]
  },
  {
   "cell_type": "markdown",
   "metadata": {},
   "source": [
    "Now, before moving forward we may also want to check the validity of the data. Are there any odd values that are not within the expected range? The best way to examine this is via plotting. \n",
    "\n",
    "Let's visualise some of the variables in the dataset. We will use `seaborn` to create the following plots. `seaborn` is a slightly more advanced way to make plots in python compared to `matplotlib`. We created an **optional lecture on seaborn, that you can complete if you are interested. It is not compulsory but it will make your plots look much nicer!!** \n",
    "\n",
    "In brief, the majority of plots in sebaorn require four arguments: `data` that requires the name of the dataframe, `x` that specifies the name of the column that should be plotted in x, `y` that specifies the name of the column that should be plotted in y, and `hue` that gives information on whether the colour of the plots should have any meaning (e.g. red for one category and blue for another category). Hue takes again as input the name of the column that specifies the different categories. \n",
    "\n",
    "Each different type of plot (e.g. histograms, boxplots..) has additional optional arguments that can be checked using the `help` function (or the seaborn lecture). "
   ]
  },
  {
   "cell_type": "code",
   "execution_count": null,
   "metadata": {},
   "outputs": [],
   "source": [
    "_ = sb.histplot(data = df2, x = \"memory_spatialSpan\", bins = 30)\n",
    "plt.title(\"Accuracy Spatial Span\")"
   ]
  },
  {
   "cell_type": "code",
   "execution_count": null,
   "metadata": {},
   "outputs": [],
   "source": [
    "_ = sb.histplot(data = df2, x = \"attention_targetDetection\", bins = 30)\n",
    "plt.title(\"Accuracy Target detection\")"
   ]
  },
  {
   "cell_type": "code",
   "execution_count": null,
   "metadata": {},
   "outputs": [],
   "source": [
    "_ = sb.histplot(data = df2, x = \"language_verbalAnalogies\", bins = 30)"
   ]
  },
  {
   "cell_type": "code",
   "execution_count": null,
   "metadata": {},
   "outputs": [],
   "source": [
    "_ = sb.histplot(data = df2, x = \"Age\", bins = 30)"
   ]
  },
  {
   "cell_type": "markdown",
   "metadata": {},
   "source": [
    "We see that for the cognitive variables the data looks valid. However, when we look at age, one person seems to be over 600 years old! Unless we are dealing with a vampire, we may want to do something about this data. There are multiple ways to deal with this type of data but the simplest and most straightforward is to get rid of it, by replacing it with a NaN value."
   ]
  },
  {
   "cell_type": "code",
   "execution_count": null,
   "metadata": {},
   "outputs": [],
   "source": [
    "print(df2.Age[df2.Age > 100]) #show all the people who had an age over 100\n",
    "df2.Age.loc[df2.Age > 100] = np.nan  #replace with NaNs anyone who is older than 100\n",
    "_ = sb.histplot(data = df2, x = \"Age\", bins = 30) #plot the new data\n"
   ]
  },
  {
   "cell_type": "markdown",
   "metadata": {},
   "source": [
    "Check for the remaining variables if there is any data that is not valid. If you find anything, replace it with NaNs"
   ]
  },
  {
   "cell_type": "markdown",
   "metadata": {},
   "source": [
    "Now that we have established that the data looks healthy, the next thing on the list is to check whether there are any duplicated values in our dataset. The easiest way to check this is via the number of unique user IDs. If we had no duplicates, then the number of unique IDs should correspond with the total number of rows in our data."
   ]
  },
  {
   "cell_type": "code",
   "execution_count": null,
   "metadata": {},
   "outputs": [],
   "source": [
    "print(len(np.unique(df2.userID)))\n",
    "print(len(df2.userID))"
   ]
  },
  {
   "cell_type": "markdown",
   "metadata": {},
   "source": [
    "You can also use the `duplicated` function to obtain the same results."
   ]
  },
  {
   "cell_type": "code",
   "execution_count": null,
   "metadata": {},
   "outputs": [],
   "source": [
    "sum(df2.duplicated()) "
   ]
  },
  {
   "cell_type": "markdown",
   "metadata": {},
   "source": [
    "It looks like we got two duplicates in our data. Let us try to remove them."
   ]
  },
  {
   "cell_type": "code",
   "execution_count": null,
   "metadata": {},
   "outputs": [],
   "source": [
    "df2 = df2[~df2.duplicated()] #Have a look at lecture 8 if you don't remember this function\n",
    "sum(df2.duplicated()) # calculate the number of duplicates again after removing them. If we were succcessful none should be there anymore."
   ]
  },
  {
   "cell_type": "markdown",
   "metadata": {},
   "source": [
    "We are almost done cleaning our data. Now let's check if there are any missing values. It's generally good practice to get rid of participants with missing data or replace those values with plausible estimates (like the mean/median). In this case, we will show the first. To find out if we have any missing values we can use the `isna` function. This returns True when there is a missing value and False when there isn't one."
   ]
  },
  {
   "cell_type": "code",
   "execution_count": null,
   "metadata": {},
   "outputs": [],
   "source": [
    "df2.isna().sum()"
   ]
  },
  {
   "cell_type": "markdown",
   "metadata": {},
   "source": [
    "Let's try to understand how many different people have missing values among the 50 participants. "
   ]
  },
  {
   "cell_type": "code",
   "execution_count": null,
   "metadata": {},
   "outputs": [],
   "source": [
    "sum_missing = df2.isna().sum(axis=1) #This shows us how many missing values each person has\n",
    "print(sum(sum_missing > 0)) #how many people have at least one missing data\n"
   ]
  },
  {
   "cell_type": "markdown",
   "metadata": {},
   "source": [
    "Let's get rid of the 3 people who have at least one missing value"
   ]
  },
  {
   "cell_type": "code",
   "execution_count": null,
   "metadata": {},
   "outputs": [],
   "source": [
    "df2 = df2[~(sum_missing > 0)]"
   ]
  },
  {
   "cell_type": "markdown",
   "metadata": {},
   "source": [
    "Another important check we need to perform is to look for outliers. These are often less easy to spot and sometimes it is unclear if one value is an outlier or not. Some researchers may be tempted to remove more extreme values only because it helps with their hypothesis, which creates bias as it is a form of \"p hacking\". Just because a value is extreme it does not always mean that it is wrong. However, if you don't do something about your outliers, they also can bias your plots and statistical results."
   ]
  },
  {
   "cell_type": "markdown",
   "metadata": {},
   "source": [
    "One robust, objective way to deal with outliers is via a process called winsorisation. This approach replaces the extreme values in our data with slightly less extreme values, in order to limit the effect of the outliers on the calculations or the results. The mean value calculated after such replacement of the extreme values is called winsorized mean. \n",
    "\n",
    "For example, 90% winsorization means the replacement of the top 5% and bottom 5% of the data. The top 5% of the data is replaced by the value of the data at the 95th percentile and the value of the bottom 5% of the data is replaced by the value of the data at the 5th percentile. "
   ]
  },
  {
   "cell_type": "markdown",
   "metadata": {},
   "source": [
    "Let's see if our cognitive data requires any winsorisation by visualising it."
   ]
  },
  {
   "cell_type": "code",
   "execution_count": null,
   "metadata": {},
   "outputs": [],
   "source": [
    "_ = plt.boxplot([df2.language_verbalAnalogies, df2.memory_spatialSpan, df2.attention_targetDetection], \n",
    "               labels = [\"Verbal Analogies\", \"Spatial Span\", \"Target Detection\"])\n",
    "plt.xticks(rotation=25)"
   ]
  },
  {
   "cell_type": "markdown",
   "metadata": {},
   "source": [
    "The scales are very different, so it is not easy to visualise Spatial Span with the other tasks. However, we can see that it looks like there is an outlier. Let's plot spatial span alone to check more in detail. "
   ]
  },
  {
   "cell_type": "code",
   "execution_count": null,
   "metadata": {},
   "outputs": [],
   "source": [
    "_ = plt.boxplot(df2.memory_spatialSpan, labels = [\"Spatial Span\"])"
   ]
  },
  {
   "cell_type": "markdown",
   "metadata": {},
   "source": [
    "Looking at the box plot, we can see that for the memory Spatial Span task, we have one person who performed really well. A score of 8 is plausible within this task, but not very common. For that reason, it is not valid for us to just remove it. Instead, let us apply the winsorisation procedure to replace the value with something a bit less extreme by replacing the values above the 95th percentile with the value of the score on the 95th percentile."
   ]
  },
  {
   "cell_type": "code",
   "execution_count": null,
   "metadata": {},
   "outputs": [],
   "source": [
    "winsorized_memory = winsorize(df2['memory_spatialSpan'],(0.05,0.05))  #apply winsorisation\n",
    "  \n",
    "plt.boxplot(winsorized_memory, labels = [\"Spatial Span\"])  #visualise the data after winsorisation\n",
    "plt.title('Winsorized array')\n",
    "plt.show()"
   ]
  },
  {
   "cell_type": "markdown",
   "metadata": {},
   "source": [
    "It now looks a lot better! Let's replace the old values in the memory task with the winsorised version."
   ]
  },
  {
   "cell_type": "code",
   "execution_count": null,
   "metadata": {},
   "outputs": [],
   "source": [
    "df2['memory_spatialSpan'] = winsorized_memory"
   ]
  },
  {
   "cell_type": "markdown",
   "metadata": {},
   "source": [
    "One final check, now that the data is in the right format and we are confident that it is correct, is to ensure everything is on the same scale. Different tasks will have different scoring mechanisms. While on some tasks the scores may range from 4 to 8, in others they may range between 30 and 70. This is often a problem as depending on the statistical test you use, if one variable has very large values, it will dominate over other variables. So the features with higher variability may receive more weight than the others even though in theory they should not.\n",
    "\n",
    "To scale the features, there are two options that can be completed:\n",
    "\n",
    "1. **Standardisation**: scale numbers based on the mean and standard deviation\n",
    "2. **Normalisation**: scale the numbers between 0 and 1. \n",
    "\n",
    "To`standardise` features, we can use the following equation.\n",
    "\n",
    "$$featureScaled = \\frac{feature - \\mu_{feature}}{\\sigma_{feature}} $$\n",
    "\n",
    "Where $\\mu_{feature}$ corresponds to the mean of the feature and $\\sigma_{feature}$ to its standard deviation.\n",
    "\n",
    "Instead, to complete data `normalisation`, we can use the following equation:\n",
    "\n",
    "$$ featureNormalised = \\frac{feature - {feature}_{MIN}}{feature_{MAX} - feature_{MIN}} $$\n",
    "\n",
    "`standardisation` is a bit more robust towards outliers compared to `normalisation`, and the latter tends to be used when the data don't follow a Gaussian distribution. **But this is not a rule.** You can use standardisation even if your data are not normally distributed, and the choice of feature scaling really depends on your analysis. \n",
    "\n",
    "In this case, we want to evaluate at the end how much the performance of patients deviates from the performance of healthy controls in terms of standard deviation units. This is why using standardisation, which scales the values according to mean and std is more appropriate. However, there is an issue. If we standardise the patients and healthy controls separately, then we will end up using two different means and standard deviations, which will make their performances incomparable. This is why we need to standardise the patients score in each cognitive task with the respective mean and standard deviation of the healthy controls scores.\n",
    "\n",
    "Let's examine the healthy controls data."
   ]
  },
  {
   "cell_type": "code",
   "execution_count": null,
   "metadata": {},
   "outputs": [],
   "source": [
    "df_healthy = pd.read_csv(\"Data/demographics_day2.csv\")\n",
    "df_healthy.shape"
   ]
  },
  {
   "cell_type": "markdown",
   "metadata": {},
   "source": [
    "As you can see the healthy dataset contains 15722 rows and 15 columns. Each row has data of one healthy participant, and contains their performance in the three cognitive tasks of interest as well as their demographics. The healthy participants were selected in such a way that there were at least 50 people for each possible combination of demographics, and the cognitive scores were already cleaned from the biggest outliers."
   ]
  },
  {
   "cell_type": "markdown",
   "metadata": {},
   "source": [
    "Have a look at the variables."
   ]
  },
  {
   "cell_type": "code",
   "execution_count": null,
   "metadata": {},
   "outputs": [],
   "source": [
    "df_healthy.head()"
   ]
  },
  {
   "cell_type": "markdown",
   "metadata": {},
   "source": [
    "Notice there are quite a few we don't need, so we will just select the variables that we want to compare against the patients."
   ]
  },
  {
   "cell_type": "code",
   "execution_count": null,
   "metadata": {},
   "outputs": [],
   "source": [
    "dfH = df_healthy[['SummaryScore_SpatialSpan', 'SummaryScore_VerbalAnalogies', 'SummaryScore_targetDetection', 'Age', 'Sex', 'Language binary']]"
   ]
  },
  {
   "cell_type": "code",
   "execution_count": null,
   "metadata": {},
   "outputs": [],
   "source": [
    "dfH.head()"
   ]
  },
  {
   "cell_type": "markdown",
   "metadata": {},
   "source": [
    "Let's now try to plot the distributions of the scores in the three cognitive tasks to see how they look"
   ]
  },
  {
   "cell_type": "code",
   "execution_count": null,
   "metadata": {},
   "outputs": [],
   "source": [
    "plt.figure(figsize = (23, 4))\n",
    "plt.subplot(131)\n",
    "_ = sb.histplot(dfH.SummaryScore_SpatialSpan, bins = 20)\n",
    "plt.subplot(132)\n",
    "_ = sb.histplot(dfH.SummaryScore_VerbalAnalogies, bins = 20)\n",
    "plt.subplot(133)\n",
    "_ = sb.histplot(dfH.SummaryScore_targetDetection, bins = 20)"
   ]
  },
  {
   "cell_type": "markdown",
   "metadata": {},
   "source": [
    "As expected, it appears that the majority of the people perform more or less average, with just few people having really high or low scores. However, target detection appears to have a longer lower tail. Now that we have the healthy control data, we can use their mean and standard deviation to scale the patients and control data."
   ]
  },
  {
   "cell_type": "code",
   "execution_count": null,
   "metadata": {},
   "outputs": [],
   "source": [
    "memory_task = (df2['memory_spatialSpan'] - dfH['SummaryScore_SpatialSpan'].mean())/dfH['SummaryScore_SpatialSpan'].std()\n",
    "language_task = (df2['language_verbalAnalogies'] - dfH['SummaryScore_VerbalAnalogies'].mean())/dfH['SummaryScore_VerbalAnalogies'].std()\n",
    "attention_task = (df2['attention_targetDetection'] - dfH['SummaryScore_targetDetection'].mean())/dfH['SummaryScore_targetDetection'].std()"
   ]
  },
  {
   "cell_type": "code",
   "execution_count": null,
   "metadata": {},
   "outputs": [],
   "source": [
    "memory_task_control = (dfH['SummaryScore_SpatialSpan'] - dfH['SummaryScore_SpatialSpan'].mean())/dfH['SummaryScore_SpatialSpan'].std()\n",
    "language_task_control = (dfH['SummaryScore_VerbalAnalogies'] - dfH['SummaryScore_VerbalAnalogies'].mean())/dfH['SummaryScore_VerbalAnalogies'].std()\n",
    "attention_task_control = (dfH['SummaryScore_targetDetection'] - dfH['SummaryScore_targetDetection'].mean())/dfH['SummaryScore_targetDetection'].std()"
   ]
  },
  {
   "cell_type": "markdown",
   "metadata": {},
   "source": [
    "In the above code we subtracted the mean values and divided by the standard deviation, to obtain standardised values. Then, we replace old values with the standardised ones. We can visualise these changes to better understand how our data looks now."
   ]
  },
  {
   "cell_type": "code",
   "execution_count": null,
   "metadata": {},
   "outputs": [],
   "source": [
    "plt.figure(figsize = (20, 12))\n",
    "plt.subplot(221)\n",
    "_ = plt.boxplot([df2.language_verbalAnalogies, df2.memory_spatialSpan, df2.attention_targetDetection], \n",
    "               labels = [\"Verbal Analogies\", \"Spatial Span\", \"Target Detection\"])\n",
    "plt.title(\"Patients - Performance before scaling\")\n",
    "plt.subplot(222)\n",
    "_ = plt.boxplot([language_task, memory_task, attention_task], labels = [\"Verbal Analogies\", \"Spatial Span\", \"Target Detection\"])\n",
    "plt.title(\"Patients - Performance after scaling\")\n",
    "plt.subplot(223)\n",
    "_ = plt.boxplot([dfH['SummaryScore_VerbalAnalogies'], dfH['SummaryScore_SpatialSpan'] , dfH['SummaryScore_targetDetection']],\n",
    "                labels = [\"Verbal Analogies\", \"Spatial Span\", \"Target Detection\"])\n",
    "plt.title(\"Healthy controls - Performance before scaling\")\n",
    "plt.subplot(224)\n",
    "_ = plt.boxplot([language_task_control, memory_task_control, attention_task_control], labels = [\"Verbal Analogies\", \"Spatial Span\", \"Target Detection\"])\n",
    "plt.title(\"Healthy controls - Performance after scaling\")\n"
   ]
  },
  {
   "cell_type": "markdown",
   "metadata": {},
   "source": [
    "As you can see, in case of healthy controls, the data have now, more or less, a mean of 0 and std of 1. However, this is not exactly the same for patients. The reason is that patients tend to be impaired. If we had used different group means when standardising, these impairment would have been standarised out!!\n",
    "\n",
    "Let's now replace the values in the original dataframe with the scaled ones, both for healthy and patients. We could have replaced the values directly above, but we preferred not to do it in order to be able to create the boxplots and observe the changes before and after the feature scaling."
   ]
  },
  {
   "cell_type": "code",
   "execution_count": null,
   "metadata": {},
   "outputs": [],
   "source": [
    "df2['memory_spatialSpan'] = memory_task\n",
    "df2['language_verbalAnalogies'] = language_task\n",
    "df2['attention_targetDetection'] = attention_task\n",
    "\n",
    "dfH['memory_spatialSpan'] = memory_task_control\n",
    "dfH['language_verbalAnalogies'] = language_task_control\n",
    "dfH['attention_targetDetection'] = attention_task_control"
   ]
  },
  {
   "cell_type": "markdown",
   "metadata": {},
   "source": [
    "By doing this, we created three new columns in the healthy control dataset with the same column names as the patients, and containing the scaled features. We can now remove the old columns. "
   ]
  },
  {
   "cell_type": "code",
   "execution_count": null,
   "metadata": {},
   "outputs": [],
   "source": [
    "dfH = dfH.drop([\"SummaryScore_VerbalAnalogies\", 'SummaryScore_SpatialSpan', 'SummaryScore_targetDetection'], axis = 1)\n",
    "dfH.head()"
   ]
  },
  {
   "cell_type": "markdown",
   "metadata": {},
   "source": [
    "This was the last data cleaning step for the patients, let's now look into more details on the healthy controls data and their demographics.\n",
    "If you look carefully, you will notice that some data is saved in different formats (e.g. Sex, Language). Before we can compare the two groups we need to make sure that the two datasets are comparable. This process is commonly known as `harmonization` of data."
   ]
  },
  {
   "cell_type": "markdown",
   "metadata": {},
   "source": [
    "Let's first create binary variables for `language` and `sex`, using the same exact encoding of control. Based on the column titles, the sex columns assigned a 1 to males and 2 to females. Let's check which options are available in the healthy control dataset.\n",
    "\n",
    "**IMPORTANT**: if you assign the wrong integer to the wrong group within each category, all the results will be incorrect."
   ]
  },
  {
   "cell_type": "code",
   "execution_count": null,
   "metadata": {},
   "outputs": [],
   "source": [
    "dfH.Sex.value_counts(), dfH[\"Language binary\"].value_counts()"
   ]
  },
  {
   "cell_type": "markdown",
   "metadata": {},
   "source": [
    "Note that `Sex` here has a third option called `Other`. In this case, the variable *Other* can be kept in the dataset because of two reasons. First, we know that patients and healthy participants were asked to complete the same questionnaire, which means that the reason why the group *Other* is not in the patient data is because no participants chose it. If there was an inconsistency between the questions asked to the patients and the participants, the data collection deisgn would be really poor, because it wouldn't allow us to properly compare healthy controls with patients.  \n",
    "Secondly, since the extra group is in the healthy control it isn't a big issue. However, in the opposite circumstance, there would be no healthy participants to use as reference which would make it impossible to evaluate the changes in cognitive ability of patients that selected *Other* as their sex.\n",
    "\n",
    "Let's just add a third option for Others."
   ]
  },
  {
   "cell_type": "code",
   "execution_count": null,
   "metadata": {},
   "outputs": [],
   "source": [
    "mapping_language = {\"English\": 1, \"Other\": 0}\n",
    "mapping_sex = {\"Male\": 1, \"Female\": 2, \"Other\": 3}\n",
    "\n",
    "mapped_language_control = dfH['Language binary'].map(mapping_language)\n",
    "mapped_sex_control = dfH['Sex'].map(mapping_sex)\n",
    "\n",
    "dfH['Language binary'] = mapped_language_control\n",
    "dfH['Sex'] = mapped_sex_control"
   ]
  },
  {
   "cell_type": "markdown",
   "metadata": {},
   "source": [
    "Now check if there are any missing values, and if there are remove them. "
   ]
  },
  {
   "cell_type": "code",
   "execution_count": null,
   "metadata": {},
   "outputs": [],
   "source": [
    "# CODE HERE"
   ]
  },
  {
   "cell_type": "markdown",
   "metadata": {},
   "source": [
    "Finally we can rename the column names to give a easy-to-understand name that matches with the column names of the patients."
   ]
  },
  {
   "cell_type": "code",
   "execution_count": null,
   "metadata": {},
   "outputs": [],
   "source": [
    "dfH.rename(columns = {'Language binary':'First Language 1-English 0-Other'}, inplace = True)\n",
    "dfH.rename(columns = {'Sex':'Sex 1-Male 2-Female'}, inplace = True)\n",
    "dfH.head()"
   ]
  },
  {
   "cell_type": "markdown",
   "metadata": {},
   "source": [
    "We are finally ready for analysis!"
   ]
  },
  {
   "cell_type": "markdown",
   "metadata": {},
   "source": [
    "What we will do now is perform an analysis called `Deviation from expected`. This analysis allows us to examine how far from the healthy norm the patients are in each task, with respect to their performance and based on their demographics. The reason why we account for the demographics is because they play a role on the performance of participants. We cannot expect 10 years old children to perform like 50 or 80 years old adults!\n",
    "\n",
    "Simply put, this analysis trains a linear regression model, using as independent variables the demographics of healthy participants and dependent variables their scores in the cognitive tasks. Essentially what the regression model does is learn how participants are supposed to perform based on their demographics if they were healthy. This model then can be used to predict the performance of the patients. The difference between the predicted performance and the actual performance will be the Deviation from Expected. This deviation from expected is already in standard deviation units, because we standardised our data during the data cleaning.\n",
    "\n",
    "Let's start to measure the deviation from expected for the `Spatial Span memory task`, using `Age`, `Sex` and `First Language` as predictors."
   ]
  },
  {
   "cell_type": "code",
   "execution_count": null,
   "metadata": {},
   "outputs": [],
   "source": [
    "linr_model = LinearRegression().fit(dfH[[\"Age\",\"Sex 1-Male 2-Female\",\"First Language 1-English 0-Other\"]], dfH['memory_spatialSpan'])\n",
    "DT_predict = linr_model.predict(df2[[\"Age\",\"Sex 1-Male 2-Female\",\"First Language 1-English 0-Other\"]]) #Predictions on patient data\n",
    "print(DT_predict)\n"
   ]
  },
  {
   "cell_type": "code",
   "execution_count": null,
   "metadata": {},
   "outputs": [],
   "source": [
    "print(linr_model.coef_)"
   ]
  },
  {
   "cell_type": "markdown",
   "metadata": {},
   "source": [
    "Let's now calculate the deviation from expected by looking at the difference between the true score and the predicted score from the model"
   ]
  },
  {
   "cell_type": "code",
   "execution_count": null,
   "metadata": {},
   "outputs": [],
   "source": [
    "deviation_from_expected = df2[\"memory_spatialSpan\"] - DT_predict"
   ]
  },
  {
   "cell_type": "markdown",
   "metadata": {},
   "source": [
    "Plot to see how patients performed in relation to controls"
   ]
  },
  {
   "cell_type": "code",
   "execution_count": null,
   "metadata": {},
   "outputs": [],
   "source": [
    "plt.hist(deviation_from_expected)\n",
    "plt.title(\"Deviation from expected (sd units) \\n Spatial Span\")"
   ]
  },
  {
   "cell_type": "markdown",
   "metadata": {},
   "source": [
    "From the plot, you can already see that most of the patients have a negative score, which means that their actual performance was lower compared to their predicted performance, which suggests that they are impaired. Let's try to understand what is the mean Deviation from Expected and how many participants had a negative score."
   ]
  },
  {
   "cell_type": "code",
   "execution_count": null,
   "metadata": {},
   "outputs": [],
   "source": [
    "np.mean(deviation_from_expected)"
   ]
  },
  {
   "cell_type": "code",
   "execution_count": null,
   "metadata": {},
   "outputs": [],
   "source": [
    "len(deviation_from_expected[deviation_from_expected<0])"
   ]
  },
  {
   "cell_type": "markdown",
   "metadata": {},
   "source": [
    "Let's run a one sample t-test against 0 to examine whether this trend is significant. A sample t-test against zero is run as we expect to see a value of zero if there was absolutely no difference between patients and controls. If the test is significant, then the difference is significantly different from zero."
   ]
  },
  {
   "cell_type": "code",
   "execution_count": null,
   "metadata": {},
   "outputs": [],
   "source": [
    "# perform one sample t-test\n",
    "import scipy.stats as stats\n",
    "\n",
    "t_statistic, p_value = stats.ttest_1samp(a=deviation_from_expected, popmean=0)\n",
    "print(t_statistic , p_value)"
   ]
  },
  {
   "cell_type": "markdown",
   "metadata": {},
   "source": [
    "From this, we can see that patients performed statistically worse than controls on memory tests, as expected!!"
   ]
  },
  {
   "cell_type": "markdown",
   "metadata": {},
   "source": [
    "-------------\n",
    "### Code here\n",
    "\n",
    "Now that we went through the most important aspects of the analysis,let's try to reply to the following questions.\n",
    "\n",
    "1. Are patients impaired in attention and language? Did the patients perform worse or better?\n",
    "2. What if we also include education and handedness in our regression model? Perform some harmonisation between the two datasets, such that there are only 3 types of education, pre-bachelor, BSc/MSc and PhD/MD. Then, include these in the regression model and check if your results change.\n",
    "3. Try to analyse the change in RT. How do the results differ? Why?"
   ]
  },
  {
   "cell_type": "code",
   "execution_count": null,
   "metadata": {},
   "outputs": [],
   "source": [
    "#CODE HERE"
   ]
  },
  {
   "cell_type": "markdown",
   "metadata": {},
   "source": [
    "--------"
   ]
  },
  {
   "cell_type": "markdown",
   "metadata": {},
   "source": [
    "# DAY 2 CHALLENGE - Cognitive impairments in patients with Dementia"
   ]
  },
  {
   "cell_type": "markdown",
   "metadata": {},
   "source": [
    "For today's challenge we will use all of the concepts we learned in this session and apply them to a new dataset. Today's dataset contains a set of patients with Alzheimer's Disease who have gone through the same set of cognitive tests that our previous participants did (and a few more). The description of the tasks is available underneath. \n",
    "\n",
    "1. Select 3 of the cognitive tasks and 5 demographic variables that you think are of interest for this group of patients and perform data cleaning and pre-processing on them, in a similar fashion to what we performed during the Workshop. Make sure you justify why you used certain tasks and not others, and also explain why you made certain pre-processing choices.\n",
    "\n",
    "2. Is the accuracy and reaction time of dementia patients different from that of controls? Discusss the implications of the results and create meaningful plots to show any group differences (or lack thereof). *Bonus points will be awarded if Seaborn is used for your plots, but we will not deduct points if this is not used.*\n",
    "\n",
    "3. Can you predict how long a person has had dementia based on their cognitive scores? Hint: you will need to refactor your dependent variable from a string format to a numeric format (e.g. number of years since diagnosis). Discuss and interpret these results. If you have a good reason to include other variables in the model, we are happy for you to do so, and if this is correctly justified and explained we will award bonus points. However, you do not need to do this."
   ]
  },
  {
   "attachments": {
    "6db055ce-1c74-42ac-906b-7f631340ad5d.png": {
     "image/png": "[encoded data removed]"
    }
   },
   "cell_type": "markdown",
   "metadata": {},
   "source": [
    "## Tasks description\n",
    "### Immediate and delayed word memory\n",
    "The words immediate memory task is a memory task that requires participants to retain in memory a series of words and recall them shortly after. More specifically, first, a set of words is presented to participants and then the same words are presented again (targets) along with the same number of new words (non-targets). Participants have to indicate if the words are targets or non targets. The delayed memory task is equivalent to the immediate task with the difference that more time has passed between when the words were presented the first time.   \n",
    "\n",
    "### Blocks\n",
    "Blocks is a spatial problem solving task. The participant is presented with a grid of coloured blocks on the left-hand side of the screen and on the right-hand side, a black silhouette made up of a subset of the shapes on the left. The participant must make the shape of the left-hand blocks match the silhouette on the right-hand side by removing blocks. The blocks fall under gravity. \n",
    "\n",
    "<img src=\"Figures/Blocks.png\" width=\"40%\">\n",
    "\n",
    "### Digit Span\n",
    "Digit Span is a working memory task. Participants view a sequence of digits that appear on the screen one after another. Subsequently, they repeat the sequence of numbers by entering them using an on-screen number pad. Every time a sequence is recalled correctly, the length of the subsequent sequence is incremented by one. just like Spatial Span, the task ends when they make three consecutive errors.\n",
    "\n",
    "<img src=\"Figures/DigitSpan.png\" width=\"40%\">\n",
    "<!--- ![DigitSpan.png](attachment:6db055ce-1c74-42ac-906b-7f631340ad5d.png) --->\n",
    "\n",
    "### 2D Manipulations\n",
    "2D Manipulations is a spatial task that consists of a 6x6 grid with coloured squares presented at the top of the screen, together with four additional grids with coloured squares presented below (i.e. probe grids). One of the four grids is identical to the target grid above but is rotated by either 90, 180 or 270 degrees whilst the other grids differ by five squares. To obtain maximum points, the participant must indicate which of the four grids is identical to target when rotated, solving as many problems as possible within three minutes. \n",
    "\n",
    "<img src=\"Figures/2DManipulations.png\" width=\"40%\">\n"
   ]
  },
  {
   "cell_type": "code",
   "execution_count": null,
   "metadata": {},
   "outputs": [],
   "source": []
  }
 ],
 "metadata": {
  "kernelspec": {
   "display_name": "CFRobust",
   "language": "python",
   "name": "python3"
  },
  "language_info": {
   "codemirror_mode": {
    "name": "ipython",
    "version": 3
   },
   "file_extension": ".py",
   "mimetype": "text/x-python",
   "name": "python",
   "nbconvert_exporter": "python",
   "pygments_lexer": "ipython3",
   "version": "3.10.0"
  },
  "vscode": {
   "interpreter": {
    "hash": "aee8b7b246df8f9039afb4144a1f6fd8d2ca17a180786b69acc140d282b71a49"
   }
  }
 },
 "nbformat": 4,
 "nbformat_minor": 4
}
